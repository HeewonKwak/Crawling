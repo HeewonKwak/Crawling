{
  "nbformat": 4,
  "nbformat_minor": 0,
  "metadata": {
    "colab": {
      "name": "Crawling_StarBucks.ipynb",
      "provenance": []
    },
    "kernelspec": {
      "name": "python3",
      "display_name": "Python 3"
    },
    "language_info": {
      "name": "python"
    }
  },
  "cells": [
    {
      "cell_type": "code",
      "metadata": {
        "id": "EruI3YQvQFae",
        "colab": {
          "base_uri": "https://localhost:8080/"
        },
        "outputId": "0465ca8a-006f-4016-fbd1-8f19fb259ac0"
      },
      "source": [
        "# 설치(20.08 코랩 기준)\n",
        "!pip install Selenium\n",
        "!apt-get update # to update ubuntu to correctly run apt install\n",
        "!apt install chromium-chromedriver"
      ],
      "execution_count": 1,
      "outputs": [
        {
          "output_type": "stream",
          "text": [
            "Collecting Selenium\n",
            "\u001b[?25l  Downloading https://files.pythonhosted.org/packages/80/d6/4294f0b4bce4de0abf13e17190289f9d0613b0a44e5dd6a7f5ca98459853/selenium-3.141.0-py2.py3-none-any.whl (904kB)\n",
            "\r\u001b[K     |▍                               | 10kB 17.5MB/s eta 0:00:01\r\u001b[K     |▊                               | 20kB 22.2MB/s eta 0:00:01\r\u001b[K     |█                               | 30kB 25.8MB/s eta 0:00:01\r\u001b[K     |█▌                              | 40kB 28.0MB/s eta 0:00:01\r\u001b[K     |█▉                              | 51kB 30.4MB/s eta 0:00:01\r\u001b[K     |██▏                             | 61kB 28.5MB/s eta 0:00:01\r\u001b[K     |██▌                             | 71kB 28.9MB/s eta 0:00:01\r\u001b[K     |███                             | 81kB 28.4MB/s eta 0:00:01\r\u001b[K     |███▎                            | 92kB 29.8MB/s eta 0:00:01\r\u001b[K     |███▋                            | 102kB 22.6MB/s eta 0:00:01\r\u001b[K     |████                            | 112kB 22.6MB/s eta 0:00:01\r\u001b[K     |████▍                           | 122kB 22.6MB/s eta 0:00:01\r\u001b[K     |████▊                           | 133kB 22.6MB/s eta 0:00:01\r\u001b[K     |█████                           | 143kB 22.6MB/s eta 0:00:01\r\u001b[K     |█████▍                          | 153kB 22.6MB/s eta 0:00:01\r\u001b[K     |█████▉                          | 163kB 22.6MB/s eta 0:00:01\r\u001b[K     |██████▏                         | 174kB 22.6MB/s eta 0:00:01\r\u001b[K     |██████▌                         | 184kB 22.6MB/s eta 0:00:01\r\u001b[K     |██████▉                         | 194kB 22.6MB/s eta 0:00:01\r\u001b[K     |███████▎                        | 204kB 22.6MB/s eta 0:00:01\r\u001b[K     |███████▋                        | 215kB 22.6MB/s eta 0:00:01\r\u001b[K     |████████                        | 225kB 22.6MB/s eta 0:00:01\r\u001b[K     |████████▎                       | 235kB 22.6MB/s eta 0:00:01\r\u001b[K     |████████▊                       | 245kB 22.6MB/s eta 0:00:01\r\u001b[K     |█████████                       | 256kB 22.6MB/s eta 0:00:01\r\u001b[K     |█████████▍                      | 266kB 22.6MB/s eta 0:00:01\r\u001b[K     |█████████▉                      | 276kB 22.6MB/s eta 0:00:01\r\u001b[K     |██████████▏                     | 286kB 22.6MB/s eta 0:00:01\r\u001b[K     |██████████▌                     | 296kB 22.6MB/s eta 0:00:01\r\u001b[K     |██████████▉                     | 307kB 22.6MB/s eta 0:00:01\r\u001b[K     |███████████▎                    | 317kB 22.6MB/s eta 0:00:01\r\u001b[K     |███████████▋                    | 327kB 22.6MB/s eta 0:00:01\r\u001b[K     |████████████                    | 337kB 22.6MB/s eta 0:00:01\r\u001b[K     |████████████▎                   | 348kB 22.6MB/s eta 0:00:01\r\u001b[K     |████████████▊                   | 358kB 22.6MB/s eta 0:00:01\r\u001b[K     |█████████████                   | 368kB 22.6MB/s eta 0:00:01\r\u001b[K     |█████████████▍                  | 378kB 22.6MB/s eta 0:00:01\r\u001b[K     |█████████████▊                  | 389kB 22.6MB/s eta 0:00:01\r\u001b[K     |██████████████▏                 | 399kB 22.6MB/s eta 0:00:01\r\u001b[K     |██████████████▌                 | 409kB 22.6MB/s eta 0:00:01\r\u001b[K     |██████████████▉                 | 419kB 22.6MB/s eta 0:00:01\r\u001b[K     |███████████████▏                | 430kB 22.6MB/s eta 0:00:01\r\u001b[K     |███████████████▋                | 440kB 22.6MB/s eta 0:00:01\r\u001b[K     |████████████████                | 450kB 22.6MB/s eta 0:00:01\r\u001b[K     |████████████████▎               | 460kB 22.6MB/s eta 0:00:01\r\u001b[K     |████████████████▋               | 471kB 22.6MB/s eta 0:00:01\r\u001b[K     |█████████████████               | 481kB 22.6MB/s eta 0:00:01\r\u001b[K     |█████████████████▍              | 491kB 22.6MB/s eta 0:00:01\r\u001b[K     |█████████████████▊              | 501kB 22.6MB/s eta 0:00:01\r\u001b[K     |██████████████████▏             | 512kB 22.6MB/s eta 0:00:01\r\u001b[K     |██████████████████▌             | 522kB 22.6MB/s eta 0:00:01\r\u001b[K     |██████████████████▉             | 532kB 22.6MB/s eta 0:00:01\r\u001b[K     |███████████████████▏            | 542kB 22.6MB/s eta 0:00:01\r\u001b[K     |███████████████████▋            | 552kB 22.6MB/s eta 0:00:01\r\u001b[K     |████████████████████            | 563kB 22.6MB/s eta 0:00:01\r\u001b[K     |████████████████████▎           | 573kB 22.6MB/s eta 0:00:01\r\u001b[K     |████████████████████▋           | 583kB 22.6MB/s eta 0:00:01\r\u001b[K     |█████████████████████           | 593kB 22.6MB/s eta 0:00:01\r\u001b[K     |█████████████████████▍          | 604kB 22.6MB/s eta 0:00:01\r\u001b[K     |█████████████████████▊          | 614kB 22.6MB/s eta 0:00:01\r\u001b[K     |██████████████████████          | 624kB 22.6MB/s eta 0:00:01\r\u001b[K     |██████████████████████▌         | 634kB 22.6MB/s eta 0:00:01\r\u001b[K     |██████████████████████▉         | 645kB 22.6MB/s eta 0:00:01\r\u001b[K     |███████████████████████▏        | 655kB 22.6MB/s eta 0:00:01\r\u001b[K     |███████████████████████▌        | 665kB 22.6MB/s eta 0:00:01\r\u001b[K     |████████████████████████        | 675kB 22.6MB/s eta 0:00:01\r\u001b[K     |████████████████████████▎       | 686kB 22.6MB/s eta 0:00:01\r\u001b[K     |████████████████████████▋       | 696kB 22.6MB/s eta 0:00:01\r\u001b[K     |█████████████████████████       | 706kB 22.6MB/s eta 0:00:01\r\u001b[K     |█████████████████████████▍      | 716kB 22.6MB/s eta 0:00:01\r\u001b[K     |█████████████████████████▊      | 727kB 22.6MB/s eta 0:00:01\r\u001b[K     |██████████████████████████      | 737kB 22.6MB/s eta 0:00:01\r\u001b[K     |██████████████████████████▍     | 747kB 22.6MB/s eta 0:00:01\r\u001b[K     |██████████████████████████▉     | 757kB 22.6MB/s eta 0:00:01\r\u001b[K     |███████████████████████████▏    | 768kB 22.6MB/s eta 0:00:01\r\u001b[K     |███████████████████████████▌    | 778kB 22.6MB/s eta 0:00:01\r\u001b[K     |████████████████████████████    | 788kB 22.6MB/s eta 0:00:01\r\u001b[K     |████████████████████████████▎   | 798kB 22.6MB/s eta 0:00:01\r\u001b[K     |████████████████████████████▋   | 808kB 22.6MB/s eta 0:00:01\r\u001b[K     |█████████████████████████████   | 819kB 22.6MB/s eta 0:00:01\r\u001b[K     |█████████████████████████████▍  | 829kB 22.6MB/s eta 0:00:01\r\u001b[K     |█████████████████████████████▊  | 839kB 22.6MB/s eta 0:00:01\r\u001b[K     |██████████████████████████████  | 849kB 22.6MB/s eta 0:00:01\r\u001b[K     |██████████████████████████████▍ | 860kB 22.6MB/s eta 0:00:01\r\u001b[K     |██████████████████████████████▉ | 870kB 22.6MB/s eta 0:00:01\r\u001b[K     |███████████████████████████████▏| 880kB 22.6MB/s eta 0:00:01\r\u001b[K     |███████████████████████████████▌| 890kB 22.6MB/s eta 0:00:01\r\u001b[K     |███████████████████████████████▉| 901kB 22.6MB/s eta 0:00:01\r\u001b[K     |████████████████████████████████| 911kB 22.6MB/s \n",
            "\u001b[?25hRequirement already satisfied: urllib3 in /usr/local/lib/python3.7/dist-packages (from Selenium) (1.24.3)\n",
            "Installing collected packages: Selenium\n",
            "Successfully installed Selenium-3.141.0\n",
            "Get:1 http://security.ubuntu.com/ubuntu bionic-security InRelease [88.7 kB]\n",
            "Get:2 https://cloud.r-project.org/bin/linux/ubuntu bionic-cran40/ InRelease [3,626 B]\n",
            "Ign:3 https://developer.download.nvidia.com/compute/cuda/repos/ubuntu1804/x86_64  InRelease\n",
            "Get:4 http://ppa.launchpad.net/c2d4u.team/c2d4u4.0+/ubuntu bionic InRelease [15.9 kB]\n",
            "Ign:5 https://developer.download.nvidia.com/compute/machine-learning/repos/ubuntu1804/x86_64  InRelease\n",
            "Get:6 https://developer.download.nvidia.com/compute/cuda/repos/ubuntu1804/x86_64  Release [697 B]\n",
            "Hit:7 https://developer.download.nvidia.com/compute/machine-learning/repos/ubuntu1804/x86_64  Release\n",
            "Get:8 https://developer.download.nvidia.com/compute/cuda/repos/ubuntu1804/x86_64  Release.gpg [836 B]\n",
            "Hit:9 http://archive.ubuntu.com/ubuntu bionic InRelease\n",
            "Get:10 http://archive.ubuntu.com/ubuntu bionic-updates InRelease [88.7 kB]\n",
            "Hit:11 http://ppa.launchpad.net/cran/libgit2/ubuntu bionic InRelease\n",
            "Get:12 http://ppa.launchpad.net/deadsnakes/ppa/ubuntu bionic InRelease [15.9 kB]\n",
            "Get:13 http://archive.ubuntu.com/ubuntu bionic-backports InRelease [74.6 kB]\n",
            "Get:14 http://security.ubuntu.com/ubuntu bionic-security/main amd64 Packages [2,221 kB]\n",
            "Get:15 http://security.ubuntu.com/ubuntu bionic-security/universe amd64 Packages [1,418 kB]\n",
            "Hit:16 http://ppa.launchpad.net/graphics-drivers/ppa/ubuntu bionic InRelease\n",
            "Ign:18 https://developer.download.nvidia.com/compute/cuda/repos/ubuntu1804/x86_64  Packages\n",
            "Get:18 https://developer.download.nvidia.com/compute/cuda/repos/ubuntu1804/x86_64  Packages [637 kB]\n",
            "Get:19 http://ppa.launchpad.net/c2d4u.team/c2d4u4.0+/ubuntu bionic/main Sources [1,780 kB]\n",
            "Get:20 http://archive.ubuntu.com/ubuntu bionic-updates/universe amd64 Packages [2,188 kB]\n",
            "Get:21 http://ppa.launchpad.net/c2d4u.team/c2d4u4.0+/ubuntu bionic/main amd64 Packages [910 kB]\n",
            "Get:22 http://archive.ubuntu.com/ubuntu bionic-updates/main amd64 Packages [2,658 kB]\n",
            "Get:23 http://ppa.launchpad.net/deadsnakes/ppa/ubuntu bionic/main amd64 Packages [40.8 kB]\n",
            "Fetched 12.1 MB in 3s (3,769 kB/s)\n",
            "Reading package lists... Done\n",
            "Reading package lists... Done\n",
            "Building dependency tree       \n",
            "Reading state information... Done\n",
            "The following additional packages will be installed:\n",
            "  chromium-browser chromium-browser-l10n chromium-codecs-ffmpeg-extra\n",
            "Suggested packages:\n",
            "  webaccounts-chromium-extension unity-chromium-extension\n",
            "The following NEW packages will be installed:\n",
            "  chromium-browser chromium-browser-l10n chromium-chromedriver\n",
            "  chromium-codecs-ffmpeg-extra\n",
            "0 upgraded, 4 newly installed, 0 to remove and 58 not upgraded.\n",
            "Need to get 86.0 MB of archives.\n",
            "After this operation, 298 MB of additional disk space will be used.\n",
            "Get:1 http://archive.ubuntu.com/ubuntu bionic-updates/universe amd64 chromium-codecs-ffmpeg-extra amd64 91.0.4472.101-0ubuntu0.18.04.1 [1,124 kB]\n",
            "Get:2 http://archive.ubuntu.com/ubuntu bionic-updates/universe amd64 chromium-browser amd64 91.0.4472.101-0ubuntu0.18.04.1 [76.1 MB]\n",
            "Get:3 http://archive.ubuntu.com/ubuntu bionic-updates/universe amd64 chromium-browser-l10n all 91.0.4472.101-0ubuntu0.18.04.1 [3,937 kB]\n",
            "Get:4 http://archive.ubuntu.com/ubuntu bionic-updates/universe amd64 chromium-chromedriver amd64 91.0.4472.101-0ubuntu0.18.04.1 [4,837 kB]\n",
            "Fetched 86.0 MB in 3s (28.3 MB/s)\n",
            "Selecting previously unselected package chromium-codecs-ffmpeg-extra.\n",
            "(Reading database ... 160815 files and directories currently installed.)\n",
            "Preparing to unpack .../chromium-codecs-ffmpeg-extra_91.0.4472.101-0ubuntu0.18.04.1_amd64.deb ...\n",
            "Unpacking chromium-codecs-ffmpeg-extra (91.0.4472.101-0ubuntu0.18.04.1) ...\n",
            "Selecting previously unselected package chromium-browser.\n",
            "Preparing to unpack .../chromium-browser_91.0.4472.101-0ubuntu0.18.04.1_amd64.deb ...\n",
            "Unpacking chromium-browser (91.0.4472.101-0ubuntu0.18.04.1) ...\n",
            "Selecting previously unselected package chromium-browser-l10n.\n",
            "Preparing to unpack .../chromium-browser-l10n_91.0.4472.101-0ubuntu0.18.04.1_all.deb ...\n",
            "Unpacking chromium-browser-l10n (91.0.4472.101-0ubuntu0.18.04.1) ...\n",
            "Selecting previously unselected package chromium-chromedriver.\n",
            "Preparing to unpack .../chromium-chromedriver_91.0.4472.101-0ubuntu0.18.04.1_amd64.deb ...\n",
            "Unpacking chromium-chromedriver (91.0.4472.101-0ubuntu0.18.04.1) ...\n",
            "Setting up chromium-codecs-ffmpeg-extra (91.0.4472.101-0ubuntu0.18.04.1) ...\n",
            "Setting up chromium-browser (91.0.4472.101-0ubuntu0.18.04.1) ...\n",
            "update-alternatives: using /usr/bin/chromium-browser to provide /usr/bin/x-www-browser (x-www-browser) in auto mode\n",
            "update-alternatives: using /usr/bin/chromium-browser to provide /usr/bin/gnome-www-browser (gnome-www-browser) in auto mode\n",
            "Setting up chromium-chromedriver (91.0.4472.101-0ubuntu0.18.04.1) ...\n",
            "Setting up chromium-browser-l10n (91.0.4472.101-0ubuntu0.18.04.1) ...\n",
            "Processing triggers for man-db (2.8.3-2ubuntu0.1) ...\n",
            "Processing triggers for hicolor-icon-theme (0.17-2) ...\n",
            "Processing triggers for mime-support (3.60ubuntu1) ...\n",
            "Processing triggers for libc-bin (2.27-3ubuntu1.2) ...\n",
            "/sbin/ldconfig.real: /usr/local/lib/python3.7/dist-packages/ideep4py/lib/libmkldnn.so.0 is not a symbolic link\n",
            "\n"
          ],
          "name": "stdout"
        }
      ]
    },
    {
      "cell_type": "code",
      "metadata": {
        "id": "bf12zF0-VZkA",
        "colab": {
          "base_uri": "https://localhost:8080/"
        },
        "outputId": "1a11dcfb-f8f8-4254-d4b1-318fcc9fde9d"
      },
      "source": [
        "# 한글 폰트 설치\n",
        "!apt-get install -y fonts-nanum*"
      ],
      "execution_count": 2,
      "outputs": [
        {
          "output_type": "stream",
          "text": [
            "Reading package lists... Done\n",
            "Building dependency tree       \n",
            "Reading state information... Done\n",
            "Note, selecting 'fonts-nanum-eco' for glob 'fonts-nanum*'\n",
            "Note, selecting 'fonts-nanum' for glob 'fonts-nanum*'\n",
            "Note, selecting 'fonts-nanum-gothic-light' for glob 'fonts-nanum*'\n",
            "Note, selecting 'fonts-nanum-coding' for glob 'fonts-nanum*'\n",
            "Note, selecting 'fonts-nanum-extra' for glob 'fonts-nanum*'\n",
            "The following NEW packages will be installed:\n",
            "  fonts-nanum fonts-nanum-coding fonts-nanum-eco fonts-nanum-extra\n",
            "0 upgraded, 4 newly installed, 0 to remove and 58 not upgraded.\n",
            "Need to get 37.0 MB of archives.\n",
            "After this operation, 145 MB of additional disk space will be used.\n",
            "Get:1 http://archive.ubuntu.com/ubuntu bionic/universe amd64 fonts-nanum all 20170925-1 [9,604 kB]\n",
            "Get:2 http://archive.ubuntu.com/ubuntu bionic/universe amd64 fonts-nanum-eco all 1.000-6 [14.0 MB]\n",
            "Get:3 http://archive.ubuntu.com/ubuntu bionic/universe amd64 fonts-nanum-extra all 20170925-1 [12.2 MB]\n",
            "Get:4 http://archive.ubuntu.com/ubuntu bionic/universe amd64 fonts-nanum-coding all 2.5-1 [1,083 kB]\n",
            "Fetched 37.0 MB in 2s (20.6 MB/s)\n",
            "Selecting previously unselected package fonts-nanum.\n",
            "(Reading database ... 161180 files and directories currently installed.)\n",
            "Preparing to unpack .../fonts-nanum_20170925-1_all.deb ...\n",
            "Unpacking fonts-nanum (20170925-1) ...\n",
            "Selecting previously unselected package fonts-nanum-eco.\n",
            "Preparing to unpack .../fonts-nanum-eco_1.000-6_all.deb ...\n",
            "Unpacking fonts-nanum-eco (1.000-6) ...\n",
            "Selecting previously unselected package fonts-nanum-extra.\n",
            "Preparing to unpack .../fonts-nanum-extra_20170925-1_all.deb ...\n",
            "Unpacking fonts-nanum-extra (20170925-1) ...\n",
            "Selecting previously unselected package fonts-nanum-coding.\n",
            "Preparing to unpack .../fonts-nanum-coding_2.5-1_all.deb ...\n",
            "Unpacking fonts-nanum-coding (2.5-1) ...\n",
            "Setting up fonts-nanum-extra (20170925-1) ...\n",
            "Setting up fonts-nanum (20170925-1) ...\n",
            "Setting up fonts-nanum-coding (2.5-1) ...\n",
            "Setting up fonts-nanum-eco (1.000-6) ...\n",
            "Processing triggers for fontconfig (2.12.6-0ubuntu2) ...\n"
          ],
          "name": "stdout"
        }
      ]
    },
    {
      "cell_type": "code",
      "metadata": {
        "colab": {
          "base_uri": "https://localhost:8080/"
        },
        "id": "8ItQT1vpQNbE",
        "outputId": "ba2e6c75-9c03-40a6-dc73-9a4a83bb8cdb"
      },
      "source": [
        "from selenium import webdriver\n",
        "from selenium import webdriver as wb\n",
        "from selenium.webdriver.common.keys import Keys\n",
        "\n",
        "chrome_options = webdriver.ChromeOptions()\n",
        "chrome_options.add_argument('--headless') #내부 창을 띄울 수 없으므로 설정\n",
        "chrome_options.add_argument('--no-sandbox')\n",
        "chrome_options.add_argument('--disable-dev-shm-usage')\n",
        "\n",
        "chrome_options.add_argument('--window-size=1920x1080')\n",
        "driver = wb.Chrome('chromedriver', chrome_options=chrome_options)"
      ],
      "execution_count": 4,
      "outputs": [
        {
          "output_type": "stream",
          "text": [
            "/usr/local/lib/python3.7/dist-packages/ipykernel_launcher.py:11: DeprecationWarning: use options instead of chrome_options\n",
            "  # This is added back by InteractiveShellApp.init_path()\n"
          ],
          "name": "stderr"
        }
      ]
    },
    {
      "cell_type": "code",
      "metadata": {
        "id": "lMaTiccqnwne"
      },
      "source": [
        "import urllib\n",
        "from urllib.request import urlopen\n",
        "from urllib.parse import quote_plus\n",
        "from bs4 import BeautifulSoup as bs\n",
        "from selenium.webdriver.common.keys import Keys\n",
        "import time"
      ],
      "execution_count": 5,
      "outputs": []
    },
    {
      "cell_type": "code",
      "metadata": {
        "id": "lI1jbmjlT4QB"
      },
      "source": [
        "url = 'http://www.istarbucks.co.kr/menu/index.do'\n",
        "\n",
        "driver.get(url)"
      ],
      "execution_count": 6,
      "outputs": []
    },
    {
      "cell_type": "code",
      "metadata": {
        "colab": {
          "base_uri": "https://localhost:8080/"
        },
        "id": "aQrKEl9TT57X",
        "outputId": "11743939-748e-4ab2-e9e6-179691f92bb2"
      },
      "source": [
        "# 음료 버튼 클릭\n",
        "btn_drink = driver.find_element_by_class_name('menu_drink_btn01')\n",
        "# <div class=\"menu_drink_btn01\"><a href=\"drink_list.do\" title=\"스타벅스 음료 자세히 보기\">자세히 보기</a></div>\n",
        "btn_drink.click()\n",
        "driver.save_screenshot('istarbucks01.png')"
      ],
      "execution_count": 7,
      "outputs": [
        {
          "output_type": "execute_result",
          "data": {
            "text/plain": [
              "True"
            ]
          },
          "metadata": {
            "tags": []
          },
          "execution_count": 7
        }
      ]
    },
    {
      "cell_type": "code",
      "metadata": {
        "colab": {
          "base_uri": "https://localhost:8080/"
        },
        "id": "uhEskT8AT6sX",
        "outputId": "9f97ed6f-13e2-42a2-9aeb-aeebc08677a6"
      },
      "source": [
        "# 영양 정보로 보기\n",
        "btn_info = driver.find_element_by_css_selector('#container > div.content > div.product_result_wrap.product_result_wrap01 > div > dl > dt.dt2 > a')\n",
        "btn_info.click()\n",
        "time.sleep(1)\n",
        "driver.save_screenshot('istarbucks02.png')\n",
        "\n",
        "#container > div.content > div.product_result_wrap.product_result_wrap01\n",
        "#container > div.content > div.product_result_wrap.product_result_wrap01 > div > dl > dt.dt2"
      ],
      "execution_count": 8,
      "outputs": [
        {
          "output_type": "execute_result",
          "data": {
            "text/plain": [
              "True"
            ]
          },
          "metadata": {
            "tags": []
          },
          "execution_count": 8
        }
      ]
    },
    {
      "cell_type": "code",
      "metadata": {
        "id": "AhB1JW53T9Z_"
      },
      "source": [
        "soup = bs(driver.page_source, 'html.parser')"
      ],
      "execution_count": 9,
      "outputs": []
    },
    {
      "cell_type": "code",
      "metadata": {
        "colab": {
          "base_uri": "https://localhost:8080/"
        },
        "id": "r0v42kZXT_mf",
        "outputId": "144d64d1-80da-4129-f58c-d853c1a785bd"
      },
      "source": [
        "names = []\n",
        "addrs = []\n",
        "datas = []\n",
        "\n",
        "name = soup.select('table')\n",
        "colunm = soup.select('table > caption')[0].text\n",
        "colunm\n",
        "data = soup.select('table > tbody > tr')\n",
        "data\n",
        "# addr = soup.select('#mCSB_3_container > ul > li > p')\n",
        "\n",
        "for i in range(len(data)):\n",
        "  data_raw = data[i].text.split()\n",
        "  data_final = data_raw[-6:]\n",
        "  data_final.insert(0, ' '.join(data_raw[:-6]))\n",
        "  datas.append( data_final )\n",
        "#   addrs.append( addr[i].text[:-9] )\n",
        "#   tels.append( addr[i].text[-9:] )\n",
        "datas"
      ],
      "execution_count": 16,
      "outputs": [
        {
          "output_type": "execute_result",
          "data": {
            "text/plain": [
              "[['나이트로 바닐라 크림', '75', '10', '1', '20', '2', '245'],\n",
              " ['나이트로 콜드 브루', '5', '0', '0', '5', '0', '245'],\n",
              " ['돌체 콜드 브루', '265', '29', '8', '115', '9', '150'],\n",
              " ['바닐라 크림 콜드 브루', '125', '11', '3', '58', '6', '150'],\n",
              " ['벨벳 다크 모카 나이트로', '150', '17', '2', '15', '6', '160'],\n",
              " ['제주 비자림 콜드 브루', '340', '44', '10', '115', '8', '105'],\n",
              " ['콜드 브루', '5', '0', '0', '11', '0', '150'],\n",
              " ['콜드 브루 몰트', '510', '40', '10', '147.8', '20', '150'],\n",
              " ['콜드 브루 오트 라떼', '105', '11', '1', '95', '0.3', '65'],\n",
              " ['콜드 브루 플로트', '230', '18', '3', '69', '10', '150'],\n",
              " ['프렌치 애플 타르트 나이트로', '80', '19', '0', '0', '0', '145'],\n",
              " ['아이스 커피', '5', '0', '0', '10', '0', '140'],\n",
              " ['오늘의 커피', '5', '0', '0', '10', '0', '260'],\n",
              " ['에스프레소 콘 파나', '30', '1', '0', '0', '1.5', '75'],\n",
              " ['에스프레소 마키아또', '10', '0', '1', '0', '0', '75'],\n",
              " ['아이스 카페 아메리카노', '10', '0', '1', '5', '0', '150'],\n",
              " ['카페 아메리카노', '10', '0', '1', '5', '0', '150'],\n",
              " ['아이스 카라멜 마키아또', '190', '21', '6', '110', '4.6', '75'],\n",
              " ['카라멜 마키아또', '200', '22', '8', '130', '5', '75'],\n",
              " ['아이스 카푸치노', '115', '9', '6', '90', '3.5', '75'],\n",
              " ['카푸치노', '110', '8', '6', '70', '3', '75'],\n",
              " ['라벤더 카페 브레베', '400', '30', '8', '140', '22', '105'],\n",
              " ['럼 샷 코르타도', '70', '8', '3', '45', '1.8', '75'],\n",
              " ['바닐라 빈 라떼', '245', '27', '9', '150', '6', '210'],\n",
              " ['블론드 에스프레소 라떼', '330', '32', '11', '180', '11', '91'],\n",
              " ['스타벅스 돌체 라떼', '255', '39', '12', '190', '2.6', '150'],\n",
              " ['아이스 라벤더 카페 브레베', '335', '27', '6', '110', '18', '105'],\n",
              " ['아이스 바닐라 빈 라떼', '155', '20', '5', '75', '2.9', '210'],\n",
              " ['아이스 블론드 에스프레소 라떼', '220', '23', '6', '90', '8', '91'],\n",
              " ['아이스 스타벅스 돌체 라떼', '230', '35', '10', '145', '2.5', '150'],\n",
              " ['아이스 카페 라떼', '110', '8', '6', '75', '3.5', '75'],\n",
              " ['제주 별다방 땅콩 라떼', '595', '61', '15', '240', '14', '150'],\n",
              " ['카페 라떼', '180', '13', '10', '115', '5', '75'],\n",
              " ['아이스 카페 모카', '250', '21', '7', '70', '8', '95'],\n",
              " ['아이스 화이트 초콜릿 모카', '260', '27', '7', '75', '8', '75'],\n",
              " ['카페 모카', '290', '25', '10', '105', '9', '95'],\n",
              " ['화이트 초콜릿 모카', '345', '35', '11', '150', '11', '75'],\n",
              " ['바닐라 플랫 화이트', '220', '23', '9', '130', '5', '260'],\n",
              " ['바닐라 스타벅스 더블 샷', '125', '14', '2', '30', '4.5', '150'],\n",
              " ['블론드 바닐라 더블 샷 마키아또', '315', '31', '8', '130', '12', '170'],\n",
              " ['사케라또 아포가토', '290', '30', '4', '70', '10', '210'],\n",
              " ['스파클링 시트러스 에스프레소', '65', '15', '0', '5', '0', '105'],\n",
              " ['아이스 블론드 바닐라 더블 샷 마키아또', '195', '22', '5', '65', '6', '170'],\n",
              " ['에스프레소', '5', '0', '0', '0', '0', '75'],\n",
              " ['커피 스타벅스 더블 샷', '125', '14', '3', '28.5', '5', '150'],\n",
              " ['클래식 아포가토', '240', '18', '4', '70', '10', '150'],\n",
              " ['헤이즐넛 스타벅스 더블 샷', '125', '14', '3', '28.5', '5', '150'],\n",
              " ['돌체 카라멜 칩 커피 프라푸치노', '335', '50', '4', '180', '9', '85'],\n",
              " ['더블 에스프레소 칩 프라푸치노', '265', '31', '3', '140', '11', '130'],\n",
              " ['모카 프라푸치노', '280', '36', '5', '180', '6', '90'],\n",
              " ['바밀카쿠 프라푸치노', '290', '31', '2', '130', '13', '90'],\n",
              " ['에스프레소 프라푸치노', '145', '29', '2', '115', '1.1', '120'],\n",
              " ['자바 칩 프라푸치노', '340', '42', '6', '180', '9', '100'],\n",
              " ['제주 별다방 땅콩 프라푸치노', '495', '75', '6', '220', '9', '18'],\n",
              " ['카라멜 프라푸치노', '300', '39', '4', '190', '7', '85'],\n",
              " ['화이트 초콜릿 모카 프라푸치노', '245', '38', '4', '140', '6', '85'],\n",
              " ['바닐라 크림 프라푸치노', '200', '28', '4', '150', '6', '0'],\n",
              " ['제주 까망 크림 프라푸치노', '600', '79', '9', '330', '7', '0'],\n",
              " ['제주 쑥떡 크림 프라푸치노', '460', '57', '8', '250', '10', '0'],\n",
              " ['제주 유기농 말차로 만든 크림 프라푸치노', '230', '28', '5', '150', '7', '60'],\n",
              " ['초콜릿 크림 칩 프라푸치노', '300', '40', '6', '160', '7', '10'],\n",
              " ['화이트 딸기 크림 프라푸치노', '360', '54', '4', '170', '11', '0'],\n",
              " ['화이트 타이거 프라푸치노', '410', '57', '5', '220', '14', '0'],\n",
              " ['딸기 레몬 블렌디드', '235', '53', '1', '10', '0', '0'],\n",
              " ['망고 패션 후르츠 블렌디드', '120', '25', '1', '70', '0', '35'],\n",
              " ['딸기 딜라이트 요거트 블렌디드', '370', '57', '9', '105', '4.3', '0'],\n",
              " ['망고 바나나 블렌디드', '270', '48', '4', '110', '1', '0'],\n",
              " ['민트 초콜릿 칩 블렌디드', '455', '52', '9', '180', '14', '0'],\n",
              " ['제주 천혜향 블랙 티 블렌디드', '370', '87', '1', '20', '0', '15'],\n",
              " ['피치 & 레몬 블렌디드', '190', '27', '0', '45', '0', '0'],\n",
              " ['블랙 티 레모네이드 피지오', '65', '17', '0', '0', '0', '30'],\n",
              " ['쿨 라임 피지오', '105', '26', '0', '20', '0', '110'],\n",
              " ['패션 탱고 티 레모네이드 피지오', '65', '17', '0', '0.2', '0', '0'],\n",
              " ['스타벅스 파인애플 선셋 아이스 티', '175', '34', '0', '10', '0.1', '0'],\n",
              " ['라임 패션 티', '140', '35', '0', '25', '0', '150'],\n",
              " ['민트 블렌드 티', '0', '0', '0', '0', '0', '0'],\n",
              " ['별궁 오미자 유스베리 티', '175', '38', '0', '0', '0.1', '25'],\n",
              " ['아이스 라임 패션 티', '90', '22', '0', '15', '0', '93'],\n",
              " ['아이스 민트 블렌드 티', '0', '0', '0', '0', '0', '0'],\n",
              " ['아이스 얼 그레이 티', '0', '0', '0', '0', '0', '50'],\n",
              " ['아이스 유스베리 티', '0', '0', '0', '0', '0', '20'],\n",
              " ['아이스 유자 민트 티', '145', '37', '0', '5', '0', '0'],\n",
              " ['아이스 잉글리쉬 브렉퍼스트 티', '0', '0', '0', '0', '0', '40'],\n",
              " ['아이스 제주 유기 녹차', '0', '0', '0', '0', '0', '16'],\n",
              " ['아이스 캐모마일 블렌드 티', '0', '0', '0', '0', '0', '0'],\n",
              " ['아이스 히비스커스 블렌드 티', '0', '0', '0', '0', '0', '0'],\n",
              " ['얼 그레이 티', '0', '0', '0', '0', '0', '70'],\n",
              " ['유스베리 티', '0', '0', '0', '0', '0', '20'],\n",
              " ['유자 민트 티', '235', '58', '0', '10', '0', '0'],\n",
              " ['잉글리쉬 브렉퍼스트 티', '0', '0', '0', '0', '0', '70'],\n",
              " ['자몽 허니 블랙 티', '125', '30', '0', '5', '0', '70'],\n",
              " ['제주 유기 녹차', '0', '0', '0', '0', '0', '16'],\n",
              " ['캐모마일 블렌드 티', '0', '0', '0', '0', '0', '0'],\n",
              " ['패션 푸르트 티', '180', '41', '0', '5', '0', '0'],\n",
              " ['피치 젤리 티', '190', '21', '0', '65', '0', '70'],\n",
              " ['히비스커스 블렌드 티', '0', '0', '0', '0', '0', '0'],\n",
              " ['아이스 별궁 오미자 유스베리 티', '175', '38', '0', '0', '0.1', '15'],\n",
              " ['아이스 자몽 허니 블랙 티', '125', '30', '0', '5', '0', '30'],\n",
              " ['아이스 패션 푸르트 티', '155', '34', '0', '5', '0', '0'],\n",
              " ['아이스 푸를 청귤 민트 티', '205', '48', '0', '30', '0', '0'],\n",
              " ['피치 젤리 아이스 티', '120', '13', '0', '40', '0', '30'],\n",
              " ['돌체 블랙 밀크 티', '250', '34', '8', '110', '5', '60'],\n",
              " ['아이스 돌체 블랙 밀크 티', '210', '31', '6', '80', '3.7', '35'],\n",
              " ['아이스 제주 유기농 말차로 만든 라떼', '155', '16', '6', '95', '3.6', '60'],\n",
              " ['아이스 차이 티 라떼', '190', '31', '5', '70', '3', '70'],\n",
              " ['아이스 콩고물 블랙 밀크 티', '235', '36', '5', '140', '3.4', '100'],\n",
              " ['제주 유기농 말차로 만든 라떼', '205', '20', '9', '130', '5', '60'],\n",
              " ['차이 티 라떼', '200', '31', '6', '70', '3', '70'],\n",
              " ['콩고물 블랙 밀크 티', '235', '36', '5', '140', '3.4', '150'],\n",
              " ['시그니처 핫 초콜릿', '500', '52', '15', '105', '9', '15'],\n",
              " ['아이스 시그니처 초콜릿', '325', '32', '10', '70', '7', '15'],\n",
              " ['플러피 판다 아이스 초콜릿', '415', '39', '11', '150', '16', '20'],\n",
              " ['플러피 판다 핫 초콜릿', '470', '48', '12', '160', '17', '30'],\n",
              " ['라임 플로터 위드 리저브 CB 샷', '90', '20', '1', '5', '0', '60'],\n",
              " ['스타벅스 슬래머', '235', '55', '0', '0', '0', '0'],\n",
              " ['스팀 우유', '215', '18', '13', '173', '7', '0'],\n",
              " ['아이스 제주 까망 라떼', '440', '45', '10', '210', '11', '0'],\n",
              " ['오렌지 플로터 위드 리저브 CB 샷', '105', '27', '0', '5', '0', '60'],\n",
              " ['우유', '240', '18', '12', '200', '8', '0'],\n",
              " ['제주 까망 라떼', '445', '49', '13', '250', '7', '0'],\n",
              " ['제주 쑥쑥 라떼', '425', '50', '16', '210', '9', '0'],\n",
              " ['제주 청귤 레모네이드', '235', '56', '0', '30', '0', '0'],\n",
              " ['기운내라임 190ML', '90', '22', '1', '5', '0', '0'],\n",
              " ['파이팅 청귤 190ML', '95', '22', '1', '5', '0', '0'],\n",
              " ['한방에 쭉 감당 190ML', '100', '23', '1', '10', '0', '0'],\n",
              " ['도와줘 흑흑 190ML', '165', '9', '5', '140', '3.4', '0'],\n",
              " ['딸기주스 190ML', '110', '25', '0', '30', '0', '0'],\n",
              " ['망고주스 190ML', '117', '23', '1', '15', '0', '0'],\n",
              " ['수박주스 190ML', '90', '18', '2', '30', '0', '0'],\n",
              " ['케일&사과주스 190ML', '105', '26', '0', '25', '0', '0'],\n",
              " ['토마토주스 190ML', '70', '16', '1', '120', '0', '0'],\n",
              " ['퍼플베리 굿 190ML', '100', '24', '0', '15', '0', '0'],\n",
              " ['한라봉주스 190ML', '78', '16', '0.5', '10', '0', '0'],\n",
              " ['햇사과 주스 190ML', '113', '27', '0.2', '10', '0', '0'],\n",
              " ['블루베리 요거트 190ML', '155', '18', '5', '70', '3.6', '0'],\n",
              " ['치아씨드 요거트 190ML', '145', '14', '6', '70', '3.9', '0']]"
            ]
          },
          "metadata": {
            "tags": []
          },
          "execution_count": 16
        }
      ]
    },
    {
      "cell_type": "code",
      "metadata": {
        "id": "gm_UmZ6oUCg-"
      },
      "source": [
        "import numpy as np\n",
        "\n",
        "datas = np.asarray(datas)"
      ],
      "execution_count": 17,
      "outputs": []
    },
    {
      "cell_type": "code",
      "metadata": {
        "colab": {
          "base_uri": "https://localhost:8080/"
        },
        "id": "8fEQYpNKUEr_",
        "outputId": "e16c9b8b-2e68-4c21-aec7-894ab31c24bb"
      },
      "source": [
        "kind = soup.select('dd > h3')\n",
        "kind\n",
        "kinds = []\n",
        "for i in range(len(kind)):\n",
        "  kinds.append(kind[i].text)\n",
        "kinds"
      ],
      "execution_count": 18,
      "outputs": [
        {
          "output_type": "execute_result",
          "data": {
            "text/plain": [
              "['콜드 브루 커피',\n",
              " '브루드 커피',\n",
              " '에스프레소',\n",
              " '프라푸치노',\n",
              " '블렌디드',\n",
              " '스타벅스 피지오',\n",
              " '티(티바나)',\n",
              " '기타 제조 음료',\n",
              " '스타벅스 주스(병음료)']"
            ]
          },
          "metadata": {
            "tags": []
          },
          "execution_count": 18
        }
      ]
    },
    {
      "cell_type": "code",
      "metadata": {
        "id": "ZNvYYLXiVPKo"
      },
      "source": [
        "import pandas as pd"
      ],
      "execution_count": 19,
      "outputs": []
    },
    {
      "cell_type": "code",
      "metadata": {
        "colab": {
          "base_uri": "https://localhost:8080/",
          "height": 418
        },
        "id": "GJPdlzKNUF-H",
        "outputId": "13c410ea-c43c-424d-e223-f3ccc3bbaf31"
      },
      "source": [
        "colunm = colunm.split(', ')\n",
        "df = pd.DataFrame(data=datas, columns=colunm)\n",
        "df"
      ],
      "execution_count": 20,
      "outputs": [
        {
          "output_type": "execute_result",
          "data": {
            "text/html": [
              "<div>\n",
              "<style scoped>\n",
              "    .dataframe tbody tr th:only-of-type {\n",
              "        vertical-align: middle;\n",
              "    }\n",
              "\n",
              "    .dataframe tbody tr th {\n",
              "        vertical-align: top;\n",
              "    }\n",
              "\n",
              "    .dataframe thead th {\n",
              "        text-align: right;\n",
              "    }\n",
              "</style>\n",
              "<table border=\"1\" class=\"dataframe\">\n",
              "  <thead>\n",
              "    <tr style=\"text-align: right;\">\n",
              "      <th></th>\n",
              "      <th>메뉴</th>\n",
              "      <th>칼로리</th>\n",
              "      <th>당류</th>\n",
              "      <th>단백질</th>\n",
              "      <th>나트륨</th>\n",
              "      <th>포화지방</th>\n",
              "      <th>카페인 정보</th>\n",
              "    </tr>\n",
              "  </thead>\n",
              "  <tbody>\n",
              "    <tr>\n",
              "      <th>0</th>\n",
              "      <td>나이트로 바닐라 크림</td>\n",
              "      <td>75</td>\n",
              "      <td>10</td>\n",
              "      <td>1</td>\n",
              "      <td>20</td>\n",
              "      <td>2</td>\n",
              "      <td>245</td>\n",
              "    </tr>\n",
              "    <tr>\n",
              "      <th>1</th>\n",
              "      <td>나이트로 콜드 브루</td>\n",
              "      <td>5</td>\n",
              "      <td>0</td>\n",
              "      <td>0</td>\n",
              "      <td>5</td>\n",
              "      <td>0</td>\n",
              "      <td>245</td>\n",
              "    </tr>\n",
              "    <tr>\n",
              "      <th>2</th>\n",
              "      <td>돌체 콜드 브루</td>\n",
              "      <td>265</td>\n",
              "      <td>29</td>\n",
              "      <td>8</td>\n",
              "      <td>115</td>\n",
              "      <td>9</td>\n",
              "      <td>150</td>\n",
              "    </tr>\n",
              "    <tr>\n",
              "      <th>3</th>\n",
              "      <td>바닐라 크림 콜드 브루</td>\n",
              "      <td>125</td>\n",
              "      <td>11</td>\n",
              "      <td>3</td>\n",
              "      <td>58</td>\n",
              "      <td>6</td>\n",
              "      <td>150</td>\n",
              "    </tr>\n",
              "    <tr>\n",
              "      <th>4</th>\n",
              "      <td>벨벳 다크 모카 나이트로</td>\n",
              "      <td>150</td>\n",
              "      <td>17</td>\n",
              "      <td>2</td>\n",
              "      <td>15</td>\n",
              "      <td>6</td>\n",
              "      <td>160</td>\n",
              "    </tr>\n",
              "    <tr>\n",
              "      <th>...</th>\n",
              "      <td>...</td>\n",
              "      <td>...</td>\n",
              "      <td>...</td>\n",
              "      <td>...</td>\n",
              "      <td>...</td>\n",
              "      <td>...</td>\n",
              "      <td>...</td>\n",
              "    </tr>\n",
              "    <tr>\n",
              "      <th>131</th>\n",
              "      <td>퍼플베리 굿 190ML</td>\n",
              "      <td>100</td>\n",
              "      <td>24</td>\n",
              "      <td>0</td>\n",
              "      <td>15</td>\n",
              "      <td>0</td>\n",
              "      <td>0</td>\n",
              "    </tr>\n",
              "    <tr>\n",
              "      <th>132</th>\n",
              "      <td>한라봉주스 190ML</td>\n",
              "      <td>78</td>\n",
              "      <td>16</td>\n",
              "      <td>0.5</td>\n",
              "      <td>10</td>\n",
              "      <td>0</td>\n",
              "      <td>0</td>\n",
              "    </tr>\n",
              "    <tr>\n",
              "      <th>133</th>\n",
              "      <td>햇사과 주스 190ML</td>\n",
              "      <td>113</td>\n",
              "      <td>27</td>\n",
              "      <td>0.2</td>\n",
              "      <td>10</td>\n",
              "      <td>0</td>\n",
              "      <td>0</td>\n",
              "    </tr>\n",
              "    <tr>\n",
              "      <th>134</th>\n",
              "      <td>블루베리 요거트 190ML</td>\n",
              "      <td>155</td>\n",
              "      <td>18</td>\n",
              "      <td>5</td>\n",
              "      <td>70</td>\n",
              "      <td>3.6</td>\n",
              "      <td>0</td>\n",
              "    </tr>\n",
              "    <tr>\n",
              "      <th>135</th>\n",
              "      <td>치아씨드 요거트 190ML</td>\n",
              "      <td>145</td>\n",
              "      <td>14</td>\n",
              "      <td>6</td>\n",
              "      <td>70</td>\n",
              "      <td>3.9</td>\n",
              "      <td>0</td>\n",
              "    </tr>\n",
              "  </tbody>\n",
              "</table>\n",
              "<p>136 rows × 7 columns</p>\n",
              "</div>"
            ],
            "text/plain": [
              "                 메뉴  칼로리  당류  단백질  나트륨 포화지방 카페인 정보\n",
              "0       나이트로 바닐라 크림   75  10    1   20    2    245\n",
              "1        나이트로 콜드 브루    5   0    0    5    0    245\n",
              "2          돌체 콜드 브루  265  29    8  115    9    150\n",
              "3      바닐라 크림 콜드 브루  125  11    3   58    6    150\n",
              "4     벨벳 다크 모카 나이트로  150  17    2   15    6    160\n",
              "..              ...  ...  ..  ...  ...  ...    ...\n",
              "131    퍼플베리 굿 190ML  100  24    0   15    0      0\n",
              "132     한라봉주스 190ML   78  16  0.5   10    0      0\n",
              "133    햇사과 주스 190ML  113  27  0.2   10    0      0\n",
              "134  블루베리 요거트 190ML  155  18    5   70  3.6      0\n",
              "135  치아씨드 요거트 190ML  145  14    6   70  3.9      0\n",
              "\n",
              "[136 rows x 7 columns]"
            ]
          },
          "metadata": {
            "tags": []
          },
          "execution_count": 20
        }
      ]
    },
    {
      "cell_type": "code",
      "metadata": {
        "id": "O8vU26FDUKA_"
      },
      "source": [
        "df_cold_blue = df.loc[:10]\n",
        "df_brud = df.loc[11:12].reset_index()\n",
        "df_espresso = df.loc[13:46].reset_index(drop=True)\n",
        "df_frappuccino = df.loc[47:62].reset_index(drop=True)\n",
        "df_blended = df.loc[63:69].reset_index(drop=True)\n",
        "df_starbucks_physio = df.loc[70:72].reset_index(drop=True)\n",
        "df_tea = df.loc[73:108].reset_index(drop=True)\n",
        "df_etc = df.loc[109:121].reset_index(drop=True)\n",
        "df_juice = df.loc[122:].reset_index(drop=True)"
      ],
      "execution_count": 21,
      "outputs": []
    },
    {
      "cell_type": "code",
      "metadata": {
        "id": "igonb_zCUM23"
      },
      "source": [
        "df_cold_blue.to_csv(\"df_cold_blue.csv\")\n",
        "df_brud.to_csv(\"df_brud.csv\")\n",
        "df_espresso.to_csv(\"df_espresso.csv\")\n",
        "df_frappuccino.to_csv(\"df_frappuccino.csv\")\n",
        "df_blended.to_csv(\"df_blended.csv\")\n",
        "df_starbucks_physio.to_csv(\"df_starbucks_physio.csv\")\n",
        "df_tea.to_csv(\"df_tea.csv\")\n",
        "df_etc.to_csv(\"df_etc.csv\")\n",
        "df_juice.to_csv(\"df_juice.csv\")"
      ],
      "execution_count": 22,
      "outputs": []
    },
    {
      "cell_type": "code",
      "metadata": {
        "id": "NCSssJ3pWDs8"
      },
      "source": [
        ""
      ],
      "execution_count": null,
      "outputs": []
    }
  ]
}